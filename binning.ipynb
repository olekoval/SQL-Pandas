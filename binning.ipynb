{
  "cells": [
    {
      "cell_type": "markdown",
      "metadata": {
        "id": "view-in-github",
        "colab_type": "text"
      },
      "source": [
        "<a href=\"https://colab.research.google.com/github/olekoval/SQL-Pandas/blob/main/binning.ipynb\" target=\"_parent\"><img src=\"https://colab.research.google.com/assets/colab-badge.svg\" alt=\"Open In Colab\"/></a>"
      ]
    },
    {
      "cell_type": "code",
      "source": [
        "# Підключити файли на google диску до цього блокнота\n",
        "from google.colab import drive\n",
        "drive.mount('/content/drive')"
      ],
      "metadata": {
        "id": "WelZAVMGQ8c0"
      },
      "id": "WelZAVMGQ8c0",
      "execution_count": null,
      "outputs": []
    },
    {
      "cell_type": "code",
      "execution_count": 4,
      "id": "8bbfe540",
      "metadata": {
        "id": "8bbfe540"
      },
      "outputs": [],
      "source": [
        "import pandas as pd\n",
        "import os\n",
        "\n",
        "\n",
        "pathh = '/content/drive/MyDrive/АнализДанных/Coursera/data/емз_23_17_18_v3рік.xlsx'\n",
        "df = pd.read_excel(pathh, dtype={'ЕДРПОУ':'str'})"
      ]
    },
    {
      "cell_type": "code",
      "execution_count": 12,
      "id": "e861ec33",
      "metadata": {
        "id": "e861ec33"
      },
      "outputs": [],
      "source": [
        "# відбір 1% випадкових рядків\n",
        "df = df.sample(frac=0.01)\n",
        "# df.shape[0]"
      ]
    },
    {
      "cell_type": "markdown",
      "id": "3faa14ae",
      "metadata": {
        "id": "3faa14ae"
      },
      "source": [
        "## **pandas.cut(x, bins, right=True, labels=None, retbins=False, precision=3, include_lowest=False, duplicates='raise', ordered=True)**\n",
        "аргументы:\n",
        "- x\n",
        "- bins: int, sequence of scalars, or IntervalIndex\n",
        "    IntervalIndex - для визначення інтервалів користувача"
      ]
    },
    {
      "cell_type": "code",
      "execution_count": 11,
      "id": "a18831ec",
      "metadata": {
        "id": "a18831ec"
      },
      "outputs": [],
      "source": [
        "# Визначаємо інтервали через IntervalIndex.\n",
        "\n",
        "mx = df['Вік'].max() + 1\n",
        "intv = pd.IntervalIndex.from_breaks([0, 13, 18, 25, 65, mx], closed='left')\n",
        "# результат - IntervalIndex([[0, 13), [13, 18), [18, 25),\n",
        "#               [25, 65), [65, 95)], dtype='interval[int64, left]')\n",
        "\n",
        "\n",
        "# Новий стовбець\n",
        "df['Вікова-група_cat'] = pd.cut(df['Вік'], bins=intv)\n",
        "\n",
        "# список назв інтервалів:\n",
        "group_names = ['Діти (Children)', 'Підлітки (Adolescents/Teens)',\n",
        "               'Молоді дорослі (Young Adults)', 'Дорослі (Adults)',\n",
        "               'Старші дорослі (Seniors/Elderly)']\n",
        "\n",
        "# Змінити ім'я категорій:\n",
        "df['Вікова-група'] = df['Вікова-група_cat'].cat.rename_categories(group_names)\n",
        "\n",
        "# результат\n",
        "df[['Вік', 'Вікова-група', 'Вікова-група_cat']]\\\n",
        "    .to_excel('/content/drive/MyDrive/АнализДанных/Coursera/data/result_binning.xlsx',\n",
        "                                                        index=False)"
      ]
    }
  ],
  "metadata": {
    "kernelspec": {
      "display_name": "Python 3 (ipykernel)",
      "language": "python",
      "name": "python3"
    },
    "language_info": {
      "codemirror_mode": {
        "name": "ipython",
        "version": 3
      },
      "file_extension": ".py",
      "mimetype": "text/x-python",
      "name": "python",
      "nbconvert_exporter": "python",
      "pygments_lexer": "ipython3",
      "version": "3.10.11"
    },
    "colab": {
      "provenance": [],
      "include_colab_link": true
    }
  },
  "nbformat": 4,
  "nbformat_minor": 5
}